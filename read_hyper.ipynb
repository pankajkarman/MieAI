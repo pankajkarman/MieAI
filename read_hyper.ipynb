{
 "cells": [
  {
   "cell_type": "code",
   "execution_count": 1,
   "id": "f7fbfe8e-cce0-4ab7-948f-1aa0f94fb992",
   "metadata": {},
   "outputs": [],
   "source": [
    "# %load_ext autotime"
   ]
  },
  {
   "cell_type": "code",
   "execution_count": 2,
   "id": "ac794bb8-5583-4fc8-bcad-44094343c561",
   "metadata": {},
   "outputs": [],
   "source": [
    "import warnings\n",
    "warnings.filterwarnings('ignore')"
   ]
  },
  {
   "cell_type": "code",
   "execution_count": 3,
   "id": "540c7fdd-56fd-41e0-a60d-b2aa171d0a2f",
   "metadata": {},
   "outputs": [],
   "source": [
    "import json\n",
    "import glob\n",
    "# from mei import Size_Distribution_Optics\n",
    "import pandas as pd\n",
    "import numpy as np\n",
    "import matplotlib\n",
    "import matplotlib.pyplot as plt"
   ]
  },
  {
   "cell_type": "code",
   "execution_count": 4,
   "id": "e99dedf5-502b-4542-9b83-1783d1ecf852",
   "metadata": {
    "tags": []
   },
   "outputs": [],
   "source": [
    "def get_data(folder):\n",
    "    with open(folder+'/trial.json', \"r\") as f:\n",
    "        my_dict = json.load(f)\n",
    "        data = my_dict['hyperparameters']['values']\n",
    "        data['mse'] = my_dict['score']\n",
    "    data = pd.Series(data)\n",
    "    return data"
   ]
  },
  {
   "cell_type": "code",
   "execution_count": 5,
   "id": "94b2e84d-0660-4f78-bf14-7b6614bc6ad5",
   "metadata": {
    "tags": []
   },
   "outputs": [
    {
     "data": {
      "text/html": [
       "<div>\n",
       "<style scoped>\n",
       "    .dataframe tbody tr th:only-of-type {\n",
       "        vertical-align: middle;\n",
       "    }\n",
       "\n",
       "    .dataframe tbody tr th {\n",
       "        vertical-align: top;\n",
       "    }\n",
       "\n",
       "    .dataframe thead th {\n",
       "        text-align: right;\n",
       "    }\n",
       "</style>\n",
       "<table border=\"1\" class=\"dataframe\">\n",
       "  <thead>\n",
       "    <tr style=\"text-align: right;\">\n",
       "      <th></th>\n",
       "      <th>optimizer</th>\n",
       "      <th>units</th>\n",
       "      <th>activation</th>\n",
       "      <th>num_layers</th>\n",
       "      <th>mse</th>\n",
       "    </tr>\n",
       "  </thead>\n",
       "  <tbody>\n",
       "    <tr>\n",
       "      <th>0</th>\n",
       "      <td>adam</td>\n",
       "      <td>64</td>\n",
       "      <td>gelu</td>\n",
       "      <td>5</td>\n",
       "      <td>0.032091</td>\n",
       "    </tr>\n",
       "    <tr>\n",
       "      <th>1</th>\n",
       "      <td>adam</td>\n",
       "      <td>32</td>\n",
       "      <td>tanh</td>\n",
       "      <td>3</td>\n",
       "      <td>0.03307</td>\n",
       "    </tr>\n",
       "    <tr>\n",
       "      <th>2</th>\n",
       "      <td>adam</td>\n",
       "      <td>64</td>\n",
       "      <td>tanh</td>\n",
       "      <td>3</td>\n",
       "      <td>0.033729</td>\n",
       "    </tr>\n",
       "    <tr>\n",
       "      <th>3</th>\n",
       "      <td>adam</td>\n",
       "      <td>32</td>\n",
       "      <td>gelu</td>\n",
       "      <td>4</td>\n",
       "      <td>0.035626</td>\n",
       "    </tr>\n",
       "    <tr>\n",
       "      <th>4</th>\n",
       "      <td>adam</td>\n",
       "      <td>64</td>\n",
       "      <td>gelu</td>\n",
       "      <td>4</td>\n",
       "      <td>0.036324</td>\n",
       "    </tr>\n",
       "  </tbody>\n",
       "</table>\n",
       "</div>"
      ],
      "text/plain": [
       "  optimizer units activation num_layers       mse\n",
       "0      adam    64       gelu          5  0.032091\n",
       "1      adam    32       tanh          3   0.03307\n",
       "2      adam    64       tanh          3  0.033729\n",
       "3      adam    32       gelu          4  0.035626\n",
       "4      adam    64       gelu          4  0.036324"
      ]
     },
     "execution_count": 5,
     "metadata": {},
     "output_type": "execute_result"
    }
   ],
   "source": [
    "folders = sorted(glob.glob(\"./model/hyper1/tr*\"))\n",
    "\n",
    "dat = pd.DataFrame([])\n",
    "for i, folder in enumerate(folders):\n",
    "    dat[i] = get_data(folder)    \n",
    "dat = dat.T.sort_values('mse').dropna().reset_index().drop(['index'], axis=1).drop_duplicates().head(5)\n",
    "dat"
   ]
  },
  {
   "cell_type": "code",
   "execution_count": 6,
   "id": "7410ece2-ffbf-455a-855a-4b334c316650",
   "metadata": {
    "tags": []
   },
   "outputs": [
    {
     "data": {
      "text/plain": [
       "'\\\\begin{tabular}{llllll}\\n\\\\toprule\\n & optimizer & units & activation & num_layers & mse \\\\\\\\\\n\\\\midrule\\n0 & adam & 64 & gelu & 5 & 0.032091 \\\\\\\\\\n1 & adam & 32 & tanh & 3 & 0.033070 \\\\\\\\\\n2 & adam & 64 & tanh & 3 & 0.033729 \\\\\\\\\\n3 & adam & 32 & gelu & 4 & 0.035626 \\\\\\\\\\n4 & adam & 64 & gelu & 4 & 0.036324 \\\\\\\\\\n\\\\bottomrule\\n\\\\end{tabular}\\n'"
      ]
     },
     "execution_count": 6,
     "metadata": {},
     "output_type": "execute_result"
    }
   ],
   "source": [
    "dat.to_latex()"
   ]
  },
  {
   "cell_type": "code",
   "execution_count": 7,
   "id": "98d89c62-5bbf-49be-bac5-a03673c071ab",
   "metadata": {
    "tags": []
   },
   "outputs": [
    {
     "data": {
      "text/html": [
       "<div>\n",
       "<style scoped>\n",
       "    .dataframe tbody tr th:only-of-type {\n",
       "        vertical-align: middle;\n",
       "    }\n",
       "\n",
       "    .dataframe tbody tr th {\n",
       "        vertical-align: top;\n",
       "    }\n",
       "\n",
       "    .dataframe thead th {\n",
       "        text-align: right;\n",
       "    }\n",
       "</style>\n",
       "<table border=\"1\" class=\"dataframe\">\n",
       "  <thead>\n",
       "    <tr style=\"text-align: right;\">\n",
       "      <th></th>\n",
       "      <th>units</th>\n",
       "      <th>lr</th>\n",
       "      <th>num_layers</th>\n",
       "      <th>batch_size</th>\n",
       "      <th>mse</th>\n",
       "    </tr>\n",
       "  </thead>\n",
       "  <tbody>\n",
       "    <tr>\n",
       "      <th>0</th>\n",
       "      <td>64.0</td>\n",
       "      <td>0.010</td>\n",
       "      <td>4.0</td>\n",
       "      <td>128.0</td>\n",
       "      <td>0.014102</td>\n",
       "    </tr>\n",
       "    <tr>\n",
       "      <th>1</th>\n",
       "      <td>64.0</td>\n",
       "      <td>0.010</td>\n",
       "      <td>5.0</td>\n",
       "      <td>512.0</td>\n",
       "      <td>0.017238</td>\n",
       "    </tr>\n",
       "    <tr>\n",
       "      <th>2</th>\n",
       "      <td>64.0</td>\n",
       "      <td>0.010</td>\n",
       "      <td>5.0</td>\n",
       "      <td>256.0</td>\n",
       "      <td>0.017359</td>\n",
       "    </tr>\n",
       "    <tr>\n",
       "      <th>3</th>\n",
       "      <td>32.0</td>\n",
       "      <td>0.010</td>\n",
       "      <td>4.0</td>\n",
       "      <td>128.0</td>\n",
       "      <td>0.017747</td>\n",
       "    </tr>\n",
       "    <tr>\n",
       "      <th>4</th>\n",
       "      <td>64.0</td>\n",
       "      <td>0.001</td>\n",
       "      <td>5.0</td>\n",
       "      <td>128.0</td>\n",
       "      <td>0.017767</td>\n",
       "    </tr>\n",
       "  </tbody>\n",
       "</table>\n",
       "</div>"
      ],
      "text/plain": [
       "   units     lr  num_layers  batch_size       mse\n",
       "0   64.0  0.010         4.0       128.0  0.014102\n",
       "1   64.0  0.010         5.0       512.0  0.017238\n",
       "2   64.0  0.010         5.0       256.0  0.017359\n",
       "3   32.0  0.010         4.0       128.0  0.017747\n",
       "4   64.0  0.001         5.0       128.0  0.017767"
      ]
     },
     "execution_count": 7,
     "metadata": {},
     "output_type": "execute_result"
    }
   ],
   "source": [
    "folders = sorted(glob.glob(\"./model/mie/tr*\"))\n",
    "\n",
    "dat = pd.DataFrame([])\n",
    "for i, folder in enumerate(folders):\n",
    "    dat[i] = get_data(folder)    \n",
    "dat = dat.T.sort_values('mse').dropna().reset_index().drop(['index'], axis=1).head(5)\n",
    "dat"
   ]
  },
  {
   "cell_type": "code",
   "execution_count": 8,
   "id": "9e69d8c9-12af-4736-854f-408f00c971c9",
   "metadata": {
    "tags": []
   },
   "outputs": [
    {
     "data": {
      "text/plain": [
       "'\\\\begin{tabular}{lrrrrr}\\n\\\\toprule\\n & units & lr & num_layers & batch_size & mse \\\\\\\\\\n\\\\midrule\\n0 & 64.000000 & 0.010000 & 4.000000 & 128.000000 & 0.014102 \\\\\\\\\\n1 & 64.000000 & 0.010000 & 5.000000 & 512.000000 & 0.017238 \\\\\\\\\\n2 & 64.000000 & 0.010000 & 5.000000 & 256.000000 & 0.017359 \\\\\\\\\\n3 & 32.000000 & 0.010000 & 4.000000 & 128.000000 & 0.017747 \\\\\\\\\\n4 & 64.000000 & 0.001000 & 5.000000 & 128.000000 & 0.017767 \\\\\\\\\\n\\\\bottomrule\\n\\\\end{tabular}\\n'"
      ]
     },
     "execution_count": 8,
     "metadata": {},
     "output_type": "execute_result"
    }
   ],
   "source": [
    "dat.to_latex()"
   ]
  }
 ],
 "metadata": {
  "kernelspec": {
   "display_name": "ML (based on the latest module pytorch)",
   "language": "python",
   "name": "ml-aim"
  },
  "language_info": {
   "codemirror_mode": {
    "name": "ipython",
    "version": 3
   },
   "file_extension": ".py",
   "mimetype": "text/x-python",
   "name": "python",
   "nbconvert_exporter": "python",
   "pygments_lexer": "ipython3",
   "version": "3.10.8"
  }
 },
 "nbformat": 4,
 "nbformat_minor": 5
}
